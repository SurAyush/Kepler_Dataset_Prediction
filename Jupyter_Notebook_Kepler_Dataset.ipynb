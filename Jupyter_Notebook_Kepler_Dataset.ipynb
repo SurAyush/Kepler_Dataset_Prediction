{
 "cells": [
  {
   "cell_type": "code",
   "execution_count": 149,
   "id": "475334a3-7082-4714-af5c-325c1629b423",
   "metadata": {},
   "outputs": [],
   "source": [
    "import numpy as np\n",
    "import matplotlib.pyplot as plt\n",
    "import pandas as pd\n",
    "from sklearn.model_selection import train_test_split"
   ]
  },
  {
   "cell_type": "code",
   "execution_count": 150,
   "id": "14216b86-ba7b-4f48-acb1-9885b0fb6bff",
   "metadata": {},
   "outputs": [],
   "source": [
    "df1 = pd.read_csv(\"kepler_dataset.csv\")"
   ]
  },
  {
   "cell_type": "code",
   "execution_count": 151,
   "id": "044f4eda-06ee-4c2b-832d-c9b05fa993b8",
   "metadata": {},
   "outputs": [
    {
     "data": {
      "text/html": [
       "<div>\n",
       "<style scoped>\n",
       "    .dataframe tbody tr th:only-of-type {\n",
       "        vertical-align: middle;\n",
       "    }\n",
       "\n",
       "    .dataframe tbody tr th {\n",
       "        vertical-align: top;\n",
       "    }\n",
       "\n",
       "    .dataframe thead th {\n",
       "        text-align: right;\n",
       "    }\n",
       "</style>\n",
       "<table border=\"1\" class=\"dataframe\">\n",
       "  <thead>\n",
       "    <tr style=\"text-align: right;\">\n",
       "      <th></th>\n",
       "      <th>DispositionScore</th>\n",
       "      <th>OrbitalPeriod_days</th>\n",
       "      <th>OrbitalPeriodUpperUnc_days</th>\n",
       "      <th>OrbitalPeriodLowerUnc_days</th>\n",
       "      <th>TransitEpoch_BKJD</th>\n",
       "      <th>TransitEpochUpperUnc_BKJD</th>\n",
       "      <th>TransitEpochLowerUnc_BKJD</th>\n",
       "      <th>ImpactParamete</th>\n",
       "      <th>ImpactParameterUpperUnc</th>\n",
       "      <th>ImpactParameterLowerUnc</th>\n",
       "      <th>...</th>\n",
       "      <th>StellarSurfaceGravityUpperUnc_log10(cm/s**2)</th>\n",
       "      <th>StellarSurfaceGravityLowerUnc_log10(cm/s**2)</th>\n",
       "      <th>StellarRadius_Solarradii</th>\n",
       "      <th>StellarRadiusUpperUnc_Solarradii</th>\n",
       "      <th>StellarRadiusLowerUnc_Solarradii</th>\n",
       "      <th>RA_decimaldegrees</th>\n",
       "      <th>Dec_decimaldegrees</th>\n",
       "      <th>Kepler-band_mag</th>\n",
       "      <th>ExoplanetCandidate</th>\n",
       "      <th>ExoplanetConfirmed</th>\n",
       "    </tr>\n",
       "  </thead>\n",
       "  <tbody>\n",
       "    <tr>\n",
       "      <th>0</th>\n",
       "      <td>1.000</td>\n",
       "      <td>9.488036</td>\n",
       "      <td>2.780000e-05</td>\n",
       "      <td>-2.780000e-05</td>\n",
       "      <td>170.538750</td>\n",
       "      <td>0.002160</td>\n",
       "      <td>-0.002160</td>\n",
       "      <td>0.146</td>\n",
       "      <td>0.318</td>\n",
       "      <td>-0.146</td>\n",
       "      <td>...</td>\n",
       "      <td>0.064</td>\n",
       "      <td>-0.096</td>\n",
       "      <td>0.927</td>\n",
       "      <td>0.105</td>\n",
       "      <td>-0.061</td>\n",
       "      <td>291.93423</td>\n",
       "      <td>48.141651</td>\n",
       "      <td>15.347</td>\n",
       "      <td>1</td>\n",
       "      <td>2</td>\n",
       "    </tr>\n",
       "    <tr>\n",
       "      <th>1</th>\n",
       "      <td>0.969</td>\n",
       "      <td>54.418383</td>\n",
       "      <td>2.480000e-04</td>\n",
       "      <td>-2.480000e-04</td>\n",
       "      <td>162.513840</td>\n",
       "      <td>0.003520</td>\n",
       "      <td>-0.003520</td>\n",
       "      <td>0.586</td>\n",
       "      <td>0.059</td>\n",
       "      <td>-0.443</td>\n",
       "      <td>...</td>\n",
       "      <td>0.064</td>\n",
       "      <td>-0.096</td>\n",
       "      <td>0.927</td>\n",
       "      <td>0.105</td>\n",
       "      <td>-0.061</td>\n",
       "      <td>291.93423</td>\n",
       "      <td>48.141651</td>\n",
       "      <td>15.347</td>\n",
       "      <td>1</td>\n",
       "      <td>2</td>\n",
       "    </tr>\n",
       "    <tr>\n",
       "      <th>2</th>\n",
       "      <td>0.000</td>\n",
       "      <td>19.899140</td>\n",
       "      <td>1.490000e-05</td>\n",
       "      <td>-1.490000e-05</td>\n",
       "      <td>175.850252</td>\n",
       "      <td>0.000581</td>\n",
       "      <td>-0.000581</td>\n",
       "      <td>0.969</td>\n",
       "      <td>5.126</td>\n",
       "      <td>-0.077</td>\n",
       "      <td>...</td>\n",
       "      <td>0.044</td>\n",
       "      <td>-0.176</td>\n",
       "      <td>0.868</td>\n",
       "      <td>0.233</td>\n",
       "      <td>-0.078</td>\n",
       "      <td>297.00482</td>\n",
       "      <td>48.134129</td>\n",
       "      <td>15.436</td>\n",
       "      <td>1</td>\n",
       "      <td>1</td>\n",
       "    </tr>\n",
       "    <tr>\n",
       "      <th>3</th>\n",
       "      <td>0.000</td>\n",
       "      <td>1.736952</td>\n",
       "      <td>2.630000e-07</td>\n",
       "      <td>-2.630000e-07</td>\n",
       "      <td>170.307565</td>\n",
       "      <td>0.000115</td>\n",
       "      <td>-0.000115</td>\n",
       "      <td>1.276</td>\n",
       "      <td>0.115</td>\n",
       "      <td>-0.092</td>\n",
       "      <td>...</td>\n",
       "      <td>0.053</td>\n",
       "      <td>-0.168</td>\n",
       "      <td>0.791</td>\n",
       "      <td>0.201</td>\n",
       "      <td>-0.067</td>\n",
       "      <td>285.53461</td>\n",
       "      <td>48.285210</td>\n",
       "      <td>15.597</td>\n",
       "      <td>0</td>\n",
       "      <td>0</td>\n",
       "    </tr>\n",
       "    <tr>\n",
       "      <th>4</th>\n",
       "      <td>1.000</td>\n",
       "      <td>2.525592</td>\n",
       "      <td>3.760000e-06</td>\n",
       "      <td>-3.760000e-06</td>\n",
       "      <td>171.595550</td>\n",
       "      <td>0.001130</td>\n",
       "      <td>-0.001130</td>\n",
       "      <td>0.701</td>\n",
       "      <td>0.235</td>\n",
       "      <td>-0.478</td>\n",
       "      <td>...</td>\n",
       "      <td>0.070</td>\n",
       "      <td>-0.210</td>\n",
       "      <td>1.046</td>\n",
       "      <td>0.334</td>\n",
       "      <td>-0.133</td>\n",
       "      <td>288.75488</td>\n",
       "      <td>48.226200</td>\n",
       "      <td>15.509</td>\n",
       "      <td>1</td>\n",
       "      <td>2</td>\n",
       "    </tr>\n",
       "  </tbody>\n",
       "</table>\n",
       "<p>5 rows × 39 columns</p>\n",
       "</div>"
      ],
      "text/plain": [
       "   DispositionScore  OrbitalPeriod_days  OrbitalPeriodUpperUnc_days  \\\n",
       "0             1.000            9.488036                2.780000e-05   \n",
       "1             0.969           54.418383                2.480000e-04   \n",
       "2             0.000           19.899140                1.490000e-05   \n",
       "3             0.000            1.736952                2.630000e-07   \n",
       "4             1.000            2.525592                3.760000e-06   \n",
       "\n",
       "   OrbitalPeriodLowerUnc_days  TransitEpoch_BKJD  TransitEpochUpperUnc_BKJD  \\\n",
       "0               -2.780000e-05         170.538750                   0.002160   \n",
       "1               -2.480000e-04         162.513840                   0.003520   \n",
       "2               -1.490000e-05         175.850252                   0.000581   \n",
       "3               -2.630000e-07         170.307565                   0.000115   \n",
       "4               -3.760000e-06         171.595550                   0.001130   \n",
       "\n",
       "   TransitEpochLowerUnc_BKJD  ImpactParamete  ImpactParameterUpperUnc  \\\n",
       "0                  -0.002160           0.146                    0.318   \n",
       "1                  -0.003520           0.586                    0.059   \n",
       "2                  -0.000581           0.969                    5.126   \n",
       "3                  -0.000115           1.276                    0.115   \n",
       "4                  -0.001130           0.701                    0.235   \n",
       "\n",
       "   ImpactParameterLowerUnc  ...  StellarSurfaceGravityUpperUnc_log10(cm/s**2)  \\\n",
       "0                   -0.146  ...                                         0.064   \n",
       "1                   -0.443  ...                                         0.064   \n",
       "2                   -0.077  ...                                         0.044   \n",
       "3                   -0.092  ...                                         0.053   \n",
       "4                   -0.478  ...                                         0.070   \n",
       "\n",
       "   StellarSurfaceGravityLowerUnc_log10(cm/s**2)  StellarRadius_Solarradii  \\\n",
       "0                                        -0.096                     0.927   \n",
       "1                                        -0.096                     0.927   \n",
       "2                                        -0.176                     0.868   \n",
       "3                                        -0.168                     0.791   \n",
       "4                                        -0.210                     1.046   \n",
       "\n",
       "   StellarRadiusUpperUnc_Solarradii  StellarRadiusLowerUnc_Solarradii  \\\n",
       "0                             0.105                            -0.061   \n",
       "1                             0.105                            -0.061   \n",
       "2                             0.233                            -0.078   \n",
       "3                             0.201                            -0.067   \n",
       "4                             0.334                            -0.133   \n",
       "\n",
       "   RA_decimaldegrees  Dec_decimaldegrees  Kepler-band_mag  ExoplanetCandidate  \\\n",
       "0          291.93423           48.141651           15.347                   1   \n",
       "1          291.93423           48.141651           15.347                   1   \n",
       "2          297.00482           48.134129           15.436                   1   \n",
       "3          285.53461           48.285210           15.597                   0   \n",
       "4          288.75488           48.226200           15.509                   1   \n",
       "\n",
       "   ExoplanetConfirmed  \n",
       "0                   2  \n",
       "1                   2  \n",
       "2                   1  \n",
       "3                   0  \n",
       "4                   2  \n",
       "\n",
       "[5 rows x 39 columns]"
      ]
     },
     "execution_count": 151,
     "metadata": {},
     "output_type": "execute_result"
    }
   ],
   "source": [
    "df1.head()"
   ]
  },
  {
   "cell_type": "code",
   "execution_count": 152,
   "id": "f9cc8736-f81f-432f-9a92-d033ac4909b1",
   "metadata": {},
   "outputs": [
    {
     "data": {
      "text/plain": [
       "(5599, 39)"
      ]
     },
     "execution_count": 152,
     "metadata": {},
     "output_type": "execute_result"
    }
   ],
   "source": [
    "df1.shape"
   ]
  },
  {
   "cell_type": "code",
   "execution_count": 153,
   "id": "88bfec89-6877-4b31-b4d0-b086957153c1",
   "metadata": {},
   "outputs": [
    {
     "data": {
      "text/plain": [
       "DispositionScore                                0\n",
       "OrbitalPeriod_days                              0\n",
       "OrbitalPeriodUpperUnc_days                      0\n",
       "OrbitalPeriodLowerUnc_days                      0\n",
       "TransitEpoch_BKJD                               0\n",
       "TransitEpochUpperUnc_BKJD                       0\n",
       "TransitEpochLowerUnc_BKJD                       0\n",
       "ImpactParamete                                  0\n",
       "ImpactParameterUpperUnc                         0\n",
       "ImpactParameterLowerUnc                         0\n",
       "TransitDuration_hrs                             0\n",
       "TransitDurationUpperUnc_hrs                     0\n",
       "TransitDurationLowerUnc_hrs                     0\n",
       "TransitDepth_ppm                                0\n",
       "TransitDepthUpperUnc_ppm                        0\n",
       "TransitDepthLowerUnc_ppm                        0\n",
       "PlanetaryRadius_Earthradii                      0\n",
       "PlanetaryRadiusUpperUnc_Earthradii              0\n",
       "PlanetaryRadiusLowerUnc_Earthradii              0\n",
       "EquilibriumTemperatureK                         0\n",
       "InsolationFlux_Earthflux                        0\n",
       "InsolationFluxUpperUnc_Earthflux                0\n",
       "InsolationFluxLowerUnc_Earthflux                0\n",
       "TransitSignal-to-Nois                           0\n",
       "TCEPlanetNumbe                                  0\n",
       "StellarEffectiveTemperatureK                    0\n",
       "StellarEffectiveTemperatureUpperUncK            0\n",
       "StellarEffectiveTemperatureLowerUncK            0\n",
       "StellarSurfaceGravity_log10(cm/s**2)            0\n",
       "StellarSurfaceGravityUpperUnc_log10(cm/s**2)    0\n",
       "StellarSurfaceGravityLowerUnc_log10(cm/s**2)    0\n",
       "StellarRadius_Solarradii                        0\n",
       "StellarRadiusUpperUnc_Solarradii                0\n",
       "StellarRadiusLowerUnc_Solarradii                0\n",
       "RA_decimaldegrees                               0\n",
       "Dec_decimaldegrees                              0\n",
       "Kepler-band_mag                                 0\n",
       "ExoplanetCandidate                              0\n",
       "ExoplanetConfirmed                              0\n",
       "dtype: int64"
      ]
     },
     "execution_count": 153,
     "metadata": {},
     "output_type": "execute_result"
    }
   ],
   "source": [
    "df1.isnull().sum()"
   ]
  },
  {
   "cell_type": "markdown",
   "id": "8d664c9a-b436-4c3d-86ab-c9d82b7255d6",
   "metadata": {},
   "source": [
    "##### Dataset is clean"
   ]
  },
  {
   "cell_type": "code",
   "execution_count": 154,
   "id": "7b5cbc2f-6e62-4e88-a2d5-174d27e43a48",
   "metadata": {},
   "outputs": [],
   "source": [
    "X_temp = df1.drop(['ExoplanetCandidate','ExoplanetConfirmed'],axis='columns')\n",
    "Y1_temp = df1['ExoplanetCandidate']\n",
    "Y2_temp = df1['ExoplanetConfirmed']"
   ]
  },
  {
   "cell_type": "code",
   "execution_count": 155,
   "id": "f8f81c51-818d-425e-98a9-5ec23f6e0d84",
   "metadata": {},
   "outputs": [
    {
     "data": {
      "text/plain": [
       "5599"
      ]
     },
     "execution_count": 155,
     "metadata": {},
     "output_type": "execute_result"
    }
   ],
   "source": [
    "Y = Y1_temp.to_numpy()\n",
    "len(Y)"
   ]
  },
  {
   "cell_type": "code",
   "execution_count": 156,
   "id": "97bde3e1-db7f-43fb-a0cb-ee2d1891aa11",
   "metadata": {},
   "outputs": [
    {
     "data": {
      "text/plain": [
       "(5599, 37)"
      ]
     },
     "execution_count": 156,
     "metadata": {},
     "output_type": "execute_result"
    }
   ],
   "source": [
    "X = X_temp.to_numpy()\n",
    "X.shape"
   ]
  },
  {
   "cell_type": "code",
   "execution_count": 157,
   "id": "a893ad34-36b4-49e5-af46-53c5a2f1ce6d",
   "metadata": {},
   "outputs": [],
   "source": [
    "X_train, X_test, Y_train, Y_test = train_test_split(X,Y,test_size=0.2,random_state=37)"
   ]
  },
  {
   "cell_type": "code",
   "execution_count": 158,
   "id": "2d871cae-306b-4687-a1a3-d196aa0687d1",
   "metadata": {},
   "outputs": [
    {
     "data": {
      "text/plain": [
       "(4479, 37)"
      ]
     },
     "execution_count": 158,
     "metadata": {},
     "output_type": "execute_result"
    }
   ],
   "source": [
    "X_train.shape"
   ]
  },
  {
   "cell_type": "markdown",
   "id": "ba5601f2-9829-4d12-87f5-3fb1b19b153b",
   "metadata": {},
   "source": [
    "### Neural Network to train the model"
   ]
  },
  {
   "cell_type": "code",
   "execution_count": 159,
   "id": "d301251a-20c2-4a6f-906d-4e9c10a38513",
   "metadata": {},
   "outputs": [],
   "source": [
    "import tensorflow as tf\n",
    "from tensorflow.keras import Sequential, Input\n",
    "from tensorflow.keras.layers import Dense, Dropout\n",
    "from tensorflow.keras.losses import BinaryCrossentropy\n",
    "from tensorflow.keras.optimizers import Adam, RMSprop\n",
    "from tensorflow.keras.activations import relu,linear\n",
    "from tensorflow.keras.regularizers import l2"
   ]
  },
  {
   "cell_type": "markdown",
   "id": "6837b944-722a-4cfc-b36b-03787c9ed0c8",
   "metadata": {},
   "source": [
    "##### Trying out a simple Neural Network"
   ]
  },
  {
   "cell_type": "code",
   "execution_count": 160,
   "id": "55ca58ca-5a8c-4d98-9c12-0aba847aed15",
   "metadata": {},
   "outputs": [],
   "source": [
    "tf.random.set_seed(37)\n",
    "my_model = Sequential(\n",
    "    [\n",
    "        Input(shape=(37,)),\n",
    "        Dense(units=25, activation='relu'),\n",
    "        Dense(units=15,activation='relu'),\n",
    "        Dense(units=5,activation='relu'),\n",
    "        Dense(units=1,activation='sigmoid')\n",
    "    ]\n",
    ")\n",
    "\n",
    "my_model.compile(\n",
    "    loss=BinaryCrossentropy(),\n",
    "    optimizer=Adam(learning_rate=0.001)\n",
    ")"
   ]
  },
  {
   "cell_type": "code",
   "execution_count": 161,
   "id": "0418b309-1ad1-444a-b9cb-aa59fbc7996d",
   "metadata": {},
   "outputs": [
    {
     "data": {
      "text/html": [
       "<pre style=\"white-space:pre;overflow-x:auto;line-height:normal;font-family:Menlo,'DejaVu Sans Mono',consolas,'Courier New',monospace\"><span style=\"font-weight: bold\">Model: \"sequential_9\"</span>\n",
       "</pre>\n"
      ],
      "text/plain": [
       "\u001b[1mModel: \"sequential_9\"\u001b[0m\n"
      ]
     },
     "metadata": {},
     "output_type": "display_data"
    },
    {
     "data": {
      "text/html": [
       "<pre style=\"white-space:pre;overflow-x:auto;line-height:normal;font-family:Menlo,'DejaVu Sans Mono',consolas,'Courier New',monospace\">┏━━━━━━━━━━━━━━━━━━━━━━━━━━━━━━━━━┳━━━━━━━━━━━━━━━━━━━━━━━━┳━━━━━━━━━━━━━━━┓\n",
       "┃<span style=\"font-weight: bold\"> Layer (type)                    </span>┃<span style=\"font-weight: bold\"> Output Shape           </span>┃<span style=\"font-weight: bold\">       Param # </span>┃\n",
       "┡━━━━━━━━━━━━━━━━━━━━━━━━━━━━━━━━━╇━━━━━━━━━━━━━━━━━━━━━━━━╇━━━━━━━━━━━━━━━┩\n",
       "│ dense_29 (<span style=\"color: #0087ff; text-decoration-color: #0087ff\">Dense</span>)                │ (<span style=\"color: #00d7ff; text-decoration-color: #00d7ff\">None</span>, <span style=\"color: #00af00; text-decoration-color: #00af00\">25</span>)             │           <span style=\"color: #00af00; text-decoration-color: #00af00\">950</span> │\n",
       "├─────────────────────────────────┼────────────────────────┼───────────────┤\n",
       "│ dense_30 (<span style=\"color: #0087ff; text-decoration-color: #0087ff\">Dense</span>)                │ (<span style=\"color: #00d7ff; text-decoration-color: #00d7ff\">None</span>, <span style=\"color: #00af00; text-decoration-color: #00af00\">15</span>)             │           <span style=\"color: #00af00; text-decoration-color: #00af00\">390</span> │\n",
       "├─────────────────────────────────┼────────────────────────┼───────────────┤\n",
       "│ dense_31 (<span style=\"color: #0087ff; text-decoration-color: #0087ff\">Dense</span>)                │ (<span style=\"color: #00d7ff; text-decoration-color: #00d7ff\">None</span>, <span style=\"color: #00af00; text-decoration-color: #00af00\">5</span>)              │            <span style=\"color: #00af00; text-decoration-color: #00af00\">80</span> │\n",
       "├─────────────────────────────────┼────────────────────────┼───────────────┤\n",
       "│ dense_32 (<span style=\"color: #0087ff; text-decoration-color: #0087ff\">Dense</span>)                │ (<span style=\"color: #00d7ff; text-decoration-color: #00d7ff\">None</span>, <span style=\"color: #00af00; text-decoration-color: #00af00\">1</span>)              │             <span style=\"color: #00af00; text-decoration-color: #00af00\">6</span> │\n",
       "└─────────────────────────────────┴────────────────────────┴───────────────┘\n",
       "</pre>\n"
      ],
      "text/plain": [
       "┏━━━━━━━━━━━━━━━━━━━━━━━━━━━━━━━━━┳━━━━━━━━━━━━━━━━━━━━━━━━┳━━━━━━━━━━━━━━━┓\n",
       "┃\u001b[1m \u001b[0m\u001b[1mLayer (type)                   \u001b[0m\u001b[1m \u001b[0m┃\u001b[1m \u001b[0m\u001b[1mOutput Shape          \u001b[0m\u001b[1m \u001b[0m┃\u001b[1m \u001b[0m\u001b[1m      Param #\u001b[0m\u001b[1m \u001b[0m┃\n",
       "┡━━━━━━━━━━━━━━━━━━━━━━━━━━━━━━━━━╇━━━━━━━━━━━━━━━━━━━━━━━━╇━━━━━━━━━━━━━━━┩\n",
       "│ dense_29 (\u001b[38;5;33mDense\u001b[0m)                │ (\u001b[38;5;45mNone\u001b[0m, \u001b[38;5;34m25\u001b[0m)             │           \u001b[38;5;34m950\u001b[0m │\n",
       "├─────────────────────────────────┼────────────────────────┼───────────────┤\n",
       "│ dense_30 (\u001b[38;5;33mDense\u001b[0m)                │ (\u001b[38;5;45mNone\u001b[0m, \u001b[38;5;34m15\u001b[0m)             │           \u001b[38;5;34m390\u001b[0m │\n",
       "├─────────────────────────────────┼────────────────────────┼───────────────┤\n",
       "│ dense_31 (\u001b[38;5;33mDense\u001b[0m)                │ (\u001b[38;5;45mNone\u001b[0m, \u001b[38;5;34m5\u001b[0m)              │            \u001b[38;5;34m80\u001b[0m │\n",
       "├─────────────────────────────────┼────────────────────────┼───────────────┤\n",
       "│ dense_32 (\u001b[38;5;33mDense\u001b[0m)                │ (\u001b[38;5;45mNone\u001b[0m, \u001b[38;5;34m1\u001b[0m)              │             \u001b[38;5;34m6\u001b[0m │\n",
       "└─────────────────────────────────┴────────────────────────┴───────────────┘\n"
      ]
     },
     "metadata": {},
     "output_type": "display_data"
    },
    {
     "data": {
      "text/html": [
       "<pre style=\"white-space:pre;overflow-x:auto;line-height:normal;font-family:Menlo,'DejaVu Sans Mono',consolas,'Courier New',monospace\"><span style=\"font-weight: bold\"> Total params: </span><span style=\"color: #00af00; text-decoration-color: #00af00\">1,426</span> (5.57 KB)\n",
       "</pre>\n"
      ],
      "text/plain": [
       "\u001b[1m Total params: \u001b[0m\u001b[38;5;34m1,426\u001b[0m (5.57 KB)\n"
      ]
     },
     "metadata": {},
     "output_type": "display_data"
    },
    {
     "data": {
      "text/html": [
       "<pre style=\"white-space:pre;overflow-x:auto;line-height:normal;font-family:Menlo,'DejaVu Sans Mono',consolas,'Courier New',monospace\"><span style=\"font-weight: bold\"> Trainable params: </span><span style=\"color: #00af00; text-decoration-color: #00af00\">1,426</span> (5.57 KB)\n",
       "</pre>\n"
      ],
      "text/plain": [
       "\u001b[1m Trainable params: \u001b[0m\u001b[38;5;34m1,426\u001b[0m (5.57 KB)\n"
      ]
     },
     "metadata": {},
     "output_type": "display_data"
    },
    {
     "data": {
      "text/html": [
       "<pre style=\"white-space:pre;overflow-x:auto;line-height:normal;font-family:Menlo,'DejaVu Sans Mono',consolas,'Courier New',monospace\"><span style=\"font-weight: bold\"> Non-trainable params: </span><span style=\"color: #00af00; text-decoration-color: #00af00\">0</span> (0.00 B)\n",
       "</pre>\n"
      ],
      "text/plain": [
       "\u001b[1m Non-trainable params: \u001b[0m\u001b[38;5;34m0\u001b[0m (0.00 B)\n"
      ]
     },
     "metadata": {},
     "output_type": "display_data"
    }
   ],
   "source": [
    "my_model.summary()"
   ]
  },
  {
   "cell_type": "code",
   "execution_count": 162,
   "id": "680bc73a-9e20-478a-9a4d-a390fc85d04b",
   "metadata": {},
   "outputs": [
    {
     "data": {
      "text/plain": [
       "array([0, 1, 1, ..., 1, 0, 0], dtype=int64)"
      ]
     },
     "execution_count": 162,
     "metadata": {},
     "output_type": "execute_result"
    }
   ],
   "source": [
    "# X_train\n",
    "Y_train"
   ]
  },
  {
   "cell_type": "code",
   "execution_count": 163,
   "id": "d2e0d9b2-ffe2-439f-a0e2-0ca9d1d461eb",
   "metadata": {},
   "outputs": [
    {
     "name": "stdout",
     "output_type": "stream",
     "text": [
      "Epoch 1/100\n",
      "\u001b[1m140/140\u001b[0m \u001b[32m━━━━━━━━━━━━━━━━━━━━\u001b[0m\u001b[37m\u001b[0m \u001b[1m1s\u001b[0m 439us/step - loss: 43.9390\n",
      "Epoch 2/100\n",
      "\u001b[1m140/140\u001b[0m \u001b[32m━━━━━━━━━━━━━━━━━━━━\u001b[0m\u001b[37m\u001b[0m \u001b[1m0s\u001b[0m 388us/step - loss: 0.7826\n",
      "Epoch 3/100\n",
      "\u001b[1m140/140\u001b[0m \u001b[32m━━━━━━━━━━━━━━━━━━━━\u001b[0m\u001b[37m\u001b[0m \u001b[1m0s\u001b[0m 374us/step - loss: 0.6729\n",
      "Epoch 4/100\n",
      "\u001b[1m140/140\u001b[0m \u001b[32m━━━━━━━━━━━━━━━━━━━━\u001b[0m\u001b[37m\u001b[0m \u001b[1m0s\u001b[0m 396us/step - loss: 0.6636\n",
      "Epoch 5/100\n",
      "\u001b[1m140/140\u001b[0m \u001b[32m━━━━━━━━━━━━━━━━━━━━\u001b[0m\u001b[37m\u001b[0m \u001b[1m0s\u001b[0m 403us/step - loss: 0.6580\n",
      "Epoch 6/100\n",
      "\u001b[1m140/140\u001b[0m \u001b[32m━━━━━━━━━━━━━━━━━━━━\u001b[0m\u001b[37m\u001b[0m \u001b[1m0s\u001b[0m 388us/step - loss: 0.6548\n",
      "Epoch 7/100\n",
      "\u001b[1m140/140\u001b[0m \u001b[32m━━━━━━━━━━━━━━━━━━━━\u001b[0m\u001b[37m\u001b[0m \u001b[1m0s\u001b[0m 401us/step - loss: 0.6522\n",
      "Epoch 8/100\n",
      "\u001b[1m140/140\u001b[0m \u001b[32m━━━━━━━━━━━━━━━━━━━━\u001b[0m\u001b[37m\u001b[0m \u001b[1m0s\u001b[0m 396us/step - loss: 0.6504\n",
      "Epoch 9/100\n",
      "\u001b[1m140/140\u001b[0m \u001b[32m━━━━━━━━━━━━━━━━━━━━\u001b[0m\u001b[37m\u001b[0m \u001b[1m0s\u001b[0m 396us/step - loss: 0.6490\n",
      "Epoch 10/100\n",
      "\u001b[1m140/140\u001b[0m \u001b[32m━━━━━━━━━━━━━━━━━━━━\u001b[0m\u001b[37m\u001b[0m \u001b[1m0s\u001b[0m 410us/step - loss: 0.6474\n",
      "Epoch 11/100\n",
      "\u001b[1m140/140\u001b[0m \u001b[32m━━━━━━━━━━━━━━━━━━━━\u001b[0m\u001b[37m\u001b[0m \u001b[1m0s\u001b[0m 381us/step - loss: 0.6476\n",
      "Epoch 12/100\n",
      "\u001b[1m140/140\u001b[0m \u001b[32m━━━━━━━━━━━━━━━━━━━━\u001b[0m\u001b[37m\u001b[0m \u001b[1m0s\u001b[0m 410us/step - loss: 0.6462\n",
      "Epoch 13/100\n",
      "\u001b[1m140/140\u001b[0m \u001b[32m━━━━━━━━━━━━━━━━━━━━\u001b[0m\u001b[37m\u001b[0m \u001b[1m0s\u001b[0m 396us/step - loss: 0.6455\n",
      "Epoch 14/100\n",
      "\u001b[1m140/140\u001b[0m \u001b[32m━━━━━━━━━━━━━━━━━━━━\u001b[0m\u001b[37m\u001b[0m \u001b[1m0s\u001b[0m 388us/step - loss: 0.6448\n",
      "Epoch 15/100\n",
      "\u001b[1m140/140\u001b[0m \u001b[32m━━━━━━━━━━━━━━━━━━━━\u001b[0m\u001b[37m\u001b[0m \u001b[1m0s\u001b[0m 403us/step - loss: 0.6436\n",
      "Epoch 16/100\n",
      "\u001b[1m140/140\u001b[0m \u001b[32m━━━━━━━━━━━━━━━━━━━━\u001b[0m\u001b[37m\u001b[0m \u001b[1m0s\u001b[0m 396us/step - loss: 0.6414\n",
      "Epoch 17/100\n",
      "\u001b[1m140/140\u001b[0m \u001b[32m━━━━━━━━━━━━━━━━━━━━\u001b[0m\u001b[37m\u001b[0m \u001b[1m0s\u001b[0m 396us/step - loss: 0.6403\n",
      "Epoch 18/100\n",
      "\u001b[1m140/140\u001b[0m \u001b[32m━━━━━━━━━━━━━━━━━━━━\u001b[0m\u001b[37m\u001b[0m \u001b[1m0s\u001b[0m 460us/step - loss: 0.6374\n",
      "Epoch 19/100\n",
      "\u001b[1m140/140\u001b[0m \u001b[32m━━━━━━━━━━━━━━━━━━━━\u001b[0m\u001b[37m\u001b[0m \u001b[1m0s\u001b[0m 403us/step - loss: 0.6334\n",
      "Epoch 20/100\n",
      "\u001b[1m140/140\u001b[0m \u001b[32m━━━━━━━━━━━━━━━━━━━━\u001b[0m\u001b[37m\u001b[0m \u001b[1m0s\u001b[0m 381us/step - loss: 0.6189\n",
      "Epoch 21/100\n",
      "\u001b[1m140/140\u001b[0m \u001b[32m━━━━━━━━━━━━━━━━━━━━\u001b[0m\u001b[37m\u001b[0m \u001b[1m0s\u001b[0m 403us/step - loss: 0.6085\n",
      "Epoch 22/100\n",
      "\u001b[1m140/140\u001b[0m \u001b[32m━━━━━━━━━━━━━━━━━━━━\u001b[0m\u001b[37m\u001b[0m \u001b[1m0s\u001b[0m 388us/step - loss: 0.5977\n",
      "Epoch 23/100\n",
      "\u001b[1m140/140\u001b[0m \u001b[32m━━━━━━━━━━━━━━━━━━━━\u001b[0m\u001b[37m\u001b[0m \u001b[1m0s\u001b[0m 396us/step - loss: 0.5918\n",
      "Epoch 24/100\n",
      "\u001b[1m140/140\u001b[0m \u001b[32m━━━━━━━━━━━━━━━━━━━━\u001b[0m\u001b[37m\u001b[0m \u001b[1m0s\u001b[0m 396us/step - loss: 0.5831\n",
      "Epoch 25/100\n",
      "\u001b[1m140/140\u001b[0m \u001b[32m━━━━━━━━━━━━━━━━━━━━\u001b[0m\u001b[37m\u001b[0m \u001b[1m0s\u001b[0m 403us/step - loss: 0.5744\n",
      "Epoch 26/100\n",
      "\u001b[1m140/140\u001b[0m \u001b[32m━━━━━━━━━━━━━━━━━━━━\u001b[0m\u001b[37m\u001b[0m \u001b[1m0s\u001b[0m 403us/step - loss: 0.5647\n",
      "Epoch 27/100\n",
      "\u001b[1m140/140\u001b[0m \u001b[32m━━━━━━━━━━━━━━━━━━━━\u001b[0m\u001b[37m\u001b[0m \u001b[1m0s\u001b[0m 396us/step - loss: 0.5570\n",
      "Epoch 28/100\n",
      "\u001b[1m140/140\u001b[0m \u001b[32m━━━━━━━━━━━━━━━━━━━━\u001b[0m\u001b[37m\u001b[0m \u001b[1m0s\u001b[0m 410us/step - loss: 0.5297\n",
      "Epoch 29/100\n",
      "\u001b[1m140/140\u001b[0m \u001b[32m━━━━━━━━━━━━━━━━━━━━\u001b[0m\u001b[37m\u001b[0m \u001b[1m0s\u001b[0m 410us/step - loss: 0.4867\n",
      "Epoch 30/100\n",
      "\u001b[1m140/140\u001b[0m \u001b[32m━━━━━━━━━━━━━━━━━━━━\u001b[0m\u001b[37m\u001b[0m \u001b[1m0s\u001b[0m 410us/step - loss: 0.4928\n",
      "Epoch 31/100\n",
      "\u001b[1m140/140\u001b[0m \u001b[32m━━━━━━━━━━━━━━━━━━━━\u001b[0m\u001b[37m\u001b[0m \u001b[1m0s\u001b[0m 410us/step - loss: 0.4777\n",
      "Epoch 32/100\n",
      "\u001b[1m140/140\u001b[0m \u001b[32m━━━━━━━━━━━━━━━━━━━━\u001b[0m\u001b[37m\u001b[0m \u001b[1m0s\u001b[0m 388us/step - loss: 0.4701\n",
      "Epoch 33/100\n",
      "\u001b[1m140/140\u001b[0m \u001b[32m━━━━━━━━━━━━━━━━━━━━\u001b[0m\u001b[37m\u001b[0m \u001b[1m0s\u001b[0m 396us/step - loss: 0.4676\n",
      "Epoch 34/100\n",
      "\u001b[1m140/140\u001b[0m \u001b[32m━━━━━━━━━━━━━━━━━━━━\u001b[0m\u001b[37m\u001b[0m \u001b[1m0s\u001b[0m 396us/step - loss: 0.4626\n",
      "Epoch 35/100\n",
      "\u001b[1m140/140\u001b[0m \u001b[32m━━━━━━━━━━━━━━━━━━━━\u001b[0m\u001b[37m\u001b[0m \u001b[1m0s\u001b[0m 489us/step - loss: 0.4608\n",
      "Epoch 36/100\n",
      "\u001b[1m140/140\u001b[0m \u001b[32m━━━━━━━━━━━━━━━━━━━━\u001b[0m\u001b[37m\u001b[0m \u001b[1m0s\u001b[0m 403us/step - loss: 0.4528\n",
      "Epoch 37/100\n",
      "\u001b[1m140/140\u001b[0m \u001b[32m━━━━━━━━━━━━━━━━━━━━\u001b[0m\u001b[37m\u001b[0m \u001b[1m0s\u001b[0m 403us/step - loss: 0.4496\n",
      "Epoch 38/100\n",
      "\u001b[1m140/140\u001b[0m \u001b[32m━━━━━━━━━━━━━━━━━━━━\u001b[0m\u001b[37m\u001b[0m \u001b[1m0s\u001b[0m 410us/step - loss: 0.4462\n",
      "Epoch 39/100\n",
      "\u001b[1m140/140\u001b[0m \u001b[32m━━━━━━━━━━━━━━━━━━━━\u001b[0m\u001b[37m\u001b[0m \u001b[1m0s\u001b[0m 410us/step - loss: 0.4396\n",
      "Epoch 40/100\n",
      "\u001b[1m140/140\u001b[0m \u001b[32m━━━━━━━━━━━━━━━━━━━━\u001b[0m\u001b[37m\u001b[0m \u001b[1m0s\u001b[0m 410us/step - loss: 0.4350\n",
      "Epoch 41/100\n",
      "\u001b[1m140/140\u001b[0m \u001b[32m━━━━━━━━━━━━━━━━━━━━\u001b[0m\u001b[37m\u001b[0m \u001b[1m0s\u001b[0m 417us/step - loss: 0.4279\n",
      "Epoch 42/100\n",
      "\u001b[1m140/140\u001b[0m \u001b[32m━━━━━━━━━━━━━━━━━━━━\u001b[0m\u001b[37m\u001b[0m \u001b[1m0s\u001b[0m 417us/step - loss: 0.4275\n",
      "Epoch 43/100\n",
      "\u001b[1m140/140\u001b[0m \u001b[32m━━━━━━━━━━━━━━━━━━━━\u001b[0m\u001b[37m\u001b[0m \u001b[1m0s\u001b[0m 410us/step - loss: 0.4170\n",
      "Epoch 44/100\n",
      "\u001b[1m140/140\u001b[0m \u001b[32m━━━━━━━━━━━━━━━━━━━━\u001b[0m\u001b[37m\u001b[0m \u001b[1m0s\u001b[0m 403us/step - loss: 0.4125\n",
      "Epoch 45/100\n",
      "\u001b[1m140/140\u001b[0m \u001b[32m━━━━━━━━━━━━━━━━━━━━\u001b[0m\u001b[37m\u001b[0m \u001b[1m0s\u001b[0m 403us/step - loss: 0.4094\n",
      "Epoch 46/100\n",
      "\u001b[1m140/140\u001b[0m \u001b[32m━━━━━━━━━━━━━━━━━━━━\u001b[0m\u001b[37m\u001b[0m \u001b[1m0s\u001b[0m 396us/step - loss: 0.4139\n",
      "Epoch 47/100\n",
      "\u001b[1m140/140\u001b[0m \u001b[32m━━━━━━━━━━━━━━━━━━━━\u001b[0m\u001b[37m\u001b[0m \u001b[1m0s\u001b[0m 432us/step - loss: 0.3980\n",
      "Epoch 48/100\n",
      "\u001b[1m140/140\u001b[0m \u001b[32m━━━━━━━━━━━━━━━━━━━━\u001b[0m\u001b[37m\u001b[0m \u001b[1m0s\u001b[0m 396us/step - loss: 0.4021\n",
      "Epoch 49/100\n",
      "\u001b[1m140/140\u001b[0m \u001b[32m━━━━━━━━━━━━━━━━━━━━\u001b[0m\u001b[37m\u001b[0m \u001b[1m0s\u001b[0m 410us/step - loss: 0.3988\n",
      "Epoch 50/100\n",
      "\u001b[1m140/140\u001b[0m \u001b[32m━━━━━━━━━━━━━━━━━━━━\u001b[0m\u001b[37m\u001b[0m \u001b[1m0s\u001b[0m 403us/step - loss: 0.3991\n",
      "Epoch 51/100\n",
      "\u001b[1m140/140\u001b[0m \u001b[32m━━━━━━━━━━━━━━━━━━━━\u001b[0m\u001b[37m\u001b[0m \u001b[1m0s\u001b[0m 403us/step - loss: 0.4046\n",
      "Epoch 52/100\n",
      "\u001b[1m140/140\u001b[0m \u001b[32m━━━━━━━━━━━━━━━━━━━━\u001b[0m\u001b[37m\u001b[0m \u001b[1m0s\u001b[0m 396us/step - loss: 0.4096\n",
      "Epoch 53/100\n",
      "\u001b[1m140/140\u001b[0m \u001b[32m━━━━━━━━━━━━━━━━━━━━\u001b[0m\u001b[37m\u001b[0m \u001b[1m0s\u001b[0m 403us/step - loss: 0.3930\n",
      "Epoch 54/100\n",
      "\u001b[1m140/140\u001b[0m \u001b[32m━━━━━━━━━━━━━━━━━━━━\u001b[0m\u001b[37m\u001b[0m \u001b[1m0s\u001b[0m 410us/step - loss: 0.3937\n",
      "Epoch 55/100\n",
      "\u001b[1m140/140\u001b[0m \u001b[32m━━━━━━━━━━━━━━━━━━━━\u001b[0m\u001b[37m\u001b[0m \u001b[1m0s\u001b[0m 388us/step - loss: 0.3911\n",
      "Epoch 56/100\n",
      "\u001b[1m140/140\u001b[0m \u001b[32m━━━━━━━━━━━━━━━━━━━━\u001b[0m\u001b[37m\u001b[0m \u001b[1m0s\u001b[0m 403us/step - loss: 0.3821\n",
      "Epoch 57/100\n",
      "\u001b[1m140/140\u001b[0m \u001b[32m━━━━━━━━━━━━━━━━━━━━\u001b[0m\u001b[37m\u001b[0m \u001b[1m0s\u001b[0m 424us/step - loss: 0.3788\n",
      "Epoch 58/100\n",
      "\u001b[1m140/140\u001b[0m \u001b[32m━━━━━━━━━━━━━━━━━━━━\u001b[0m\u001b[37m\u001b[0m \u001b[1m0s\u001b[0m 388us/step - loss: 0.3823\n",
      "Epoch 59/100\n",
      "\u001b[1m140/140\u001b[0m \u001b[32m━━━━━━━━━━━━━━━━━━━━\u001b[0m\u001b[37m\u001b[0m \u001b[1m0s\u001b[0m 396us/step - loss: 0.3742\n",
      "Epoch 60/100\n",
      "\u001b[1m140/140\u001b[0m \u001b[32m━━━━━━━━━━━━━━━━━━━━\u001b[0m\u001b[37m\u001b[0m \u001b[1m0s\u001b[0m 388us/step - loss: 0.3947\n",
      "Epoch 61/100\n",
      "\u001b[1m140/140\u001b[0m \u001b[32m━━━━━━━━━━━━━━━━━━━━\u001b[0m\u001b[37m\u001b[0m \u001b[1m0s\u001b[0m 388us/step - loss: 0.3739\n",
      "Epoch 62/100\n",
      "\u001b[1m140/140\u001b[0m \u001b[32m━━━━━━━━━━━━━━━━━━━━\u001b[0m\u001b[37m\u001b[0m \u001b[1m0s\u001b[0m 403us/step - loss: 0.3715\n",
      "Epoch 63/100\n",
      "\u001b[1m140/140\u001b[0m \u001b[32m━━━━━━━━━━━━━━━━━━━━\u001b[0m\u001b[37m\u001b[0m \u001b[1m0s\u001b[0m 403us/step - loss: 0.3668\n",
      "Epoch 64/100\n",
      "\u001b[1m140/140\u001b[0m \u001b[32m━━━━━━━━━━━━━━━━━━━━\u001b[0m\u001b[37m\u001b[0m \u001b[1m0s\u001b[0m 396us/step - loss: 0.3692\n",
      "Epoch 65/100\n",
      "\u001b[1m140/140\u001b[0m \u001b[32m━━━━━━━━━━━━━━━━━━━━\u001b[0m\u001b[37m\u001b[0m \u001b[1m0s\u001b[0m 511us/step - loss: 0.3606\n",
      "Epoch 66/100\n",
      "\u001b[1m140/140\u001b[0m \u001b[32m━━━━━━━━━━━━━━━━━━━━\u001b[0m\u001b[37m\u001b[0m \u001b[1m0s\u001b[0m 389us/step - loss: 0.3587\n",
      "Epoch 67/100\n",
      "\u001b[1m140/140\u001b[0m \u001b[32m━━━━━━━━━━━━━━━━━━━━\u001b[0m\u001b[37m\u001b[0m \u001b[1m0s\u001b[0m 403us/step - loss: 0.3595\n",
      "Epoch 68/100\n",
      "\u001b[1m140/140\u001b[0m \u001b[32m━━━━━━━━━━━━━━━━━━━━\u001b[0m\u001b[37m\u001b[0m \u001b[1m0s\u001b[0m 396us/step - loss: 0.3533\n",
      "Epoch 69/100\n",
      "\u001b[1m140/140\u001b[0m \u001b[32m━━━━━━━━━━━━━━━━━━━━\u001b[0m\u001b[37m\u001b[0m \u001b[1m0s\u001b[0m 374us/step - loss: 0.3703\n",
      "Epoch 70/100\n",
      "\u001b[1m140/140\u001b[0m \u001b[32m━━━━━━━━━━━━━━━━━━━━\u001b[0m\u001b[37m\u001b[0m \u001b[1m0s\u001b[0m 403us/step - loss: 0.3518\n",
      "Epoch 71/100\n",
      "\u001b[1m140/140\u001b[0m \u001b[32m━━━━━━━━━━━━━━━━━━━━\u001b[0m\u001b[37m\u001b[0m \u001b[1m0s\u001b[0m 403us/step - loss: 0.3516\n",
      "Epoch 72/100\n",
      "\u001b[1m140/140\u001b[0m \u001b[32m━━━━━━━━━━━━━━━━━━━━\u001b[0m\u001b[37m\u001b[0m \u001b[1m0s\u001b[0m 403us/step - loss: 0.3499\n",
      "Epoch 73/100\n",
      "\u001b[1m140/140\u001b[0m \u001b[32m━━━━━━━━━━━━━━━━━━━━\u001b[0m\u001b[37m\u001b[0m \u001b[1m0s\u001b[0m 417us/step - loss: 0.3900\n",
      "Epoch 74/100\n",
      "\u001b[1m140/140\u001b[0m \u001b[32m━━━━━━━━━━━━━━━━━━━━\u001b[0m\u001b[37m\u001b[0m \u001b[1m0s\u001b[0m 396us/step - loss: 0.3472\n",
      "Epoch 75/100\n",
      "\u001b[1m140/140\u001b[0m \u001b[32m━━━━━━━━━━━━━━━━━━━━\u001b[0m\u001b[37m\u001b[0m \u001b[1m0s\u001b[0m 396us/step - loss: 0.3468\n",
      "Epoch 76/100\n",
      "\u001b[1m140/140\u001b[0m \u001b[32m━━━━━━━━━━━━━━━━━━━━\u001b[0m\u001b[37m\u001b[0m \u001b[1m0s\u001b[0m 396us/step - loss: 0.3655\n",
      "Epoch 77/100\n",
      "\u001b[1m140/140\u001b[0m \u001b[32m━━━━━━━━━━━━━━━━━━━━\u001b[0m\u001b[37m\u001b[0m \u001b[1m0s\u001b[0m 388us/step - loss: 0.3408\n",
      "Epoch 78/100\n",
      "\u001b[1m140/140\u001b[0m \u001b[32m━━━━━━━━━━━━━━━━━━━━\u001b[0m\u001b[37m\u001b[0m \u001b[1m0s\u001b[0m 388us/step - loss: 0.3415\n",
      "Epoch 79/100\n",
      "\u001b[1m140/140\u001b[0m \u001b[32m━━━━━━━━━━━━━━━━━━━━\u001b[0m\u001b[37m\u001b[0m \u001b[1m0s\u001b[0m 387us/step - loss: 0.3641\n",
      "Epoch 80/100\n",
      "\u001b[1m140/140\u001b[0m \u001b[32m━━━━━━━━━━━━━━━━━━━━\u001b[0m\u001b[37m\u001b[0m \u001b[1m0s\u001b[0m 482us/step - loss: 0.3448\n",
      "Epoch 81/100\n",
      "\u001b[1m140/140\u001b[0m \u001b[32m━━━━━━━━━━━━━━━━━━━━\u001b[0m\u001b[37m\u001b[0m \u001b[1m0s\u001b[0m 398us/step - loss: 0.3375\n",
      "Epoch 82/100\n",
      "\u001b[1m140/140\u001b[0m \u001b[32m━━━━━━━━━━━━━━━━━━━━\u001b[0m\u001b[37m\u001b[0m \u001b[1m0s\u001b[0m 383us/step - loss: 0.3515\n",
      "Epoch 83/100\n",
      "\u001b[1m140/140\u001b[0m \u001b[32m━━━━━━━━━━━━━━━━━━━━\u001b[0m\u001b[37m\u001b[0m \u001b[1m0s\u001b[0m 381us/step - loss: 0.3652\n",
      "Epoch 84/100\n",
      "\u001b[1m140/140\u001b[0m \u001b[32m━━━━━━━━━━━━━━━━━━━━\u001b[0m\u001b[37m\u001b[0m \u001b[1m0s\u001b[0m 381us/step - loss: 0.3475\n",
      "Epoch 85/100\n",
      "\u001b[1m140/140\u001b[0m \u001b[32m━━━━━━━━━━━━━━━━━━━━\u001b[0m\u001b[37m\u001b[0m \u001b[1m0s\u001b[0m 374us/step - loss: 0.3424\n",
      "Epoch 86/100\n",
      "\u001b[1m140/140\u001b[0m \u001b[32m━━━━━━━━━━━━━━━━━━━━\u001b[0m\u001b[37m\u001b[0m \u001b[1m0s\u001b[0m 367us/step - loss: 0.3407\n",
      "Epoch 87/100\n",
      "\u001b[1m140/140\u001b[0m \u001b[32m━━━━━━━━━━━━━━━━━━━━\u001b[0m\u001b[37m\u001b[0m \u001b[1m0s\u001b[0m 388us/step - loss: 0.3399\n",
      "Epoch 88/100\n",
      "\u001b[1m140/140\u001b[0m \u001b[32m━━━━━━━━━━━━━━━━━━━━\u001b[0m\u001b[37m\u001b[0m \u001b[1m0s\u001b[0m 360us/step - loss: 0.3348\n",
      "Epoch 89/100\n",
      "\u001b[1m140/140\u001b[0m \u001b[32m━━━━━━━━━━━━━━━━━━━━\u001b[0m\u001b[37m\u001b[0m \u001b[1m0s\u001b[0m 381us/step - loss: 0.3340\n",
      "Epoch 90/100\n",
      "\u001b[1m140/140\u001b[0m \u001b[32m━━━━━━━━━━━━━━━━━━━━\u001b[0m\u001b[37m\u001b[0m \u001b[1m0s\u001b[0m 360us/step - loss: 0.3339\n",
      "Epoch 91/100\n",
      "\u001b[1m140/140\u001b[0m \u001b[32m━━━━━━━━━━━━━━━━━━━━\u001b[0m\u001b[37m\u001b[0m \u001b[1m0s\u001b[0m 396us/step - loss: 0.3409\n",
      "Epoch 92/100\n",
      "\u001b[1m140/140\u001b[0m \u001b[32m━━━━━━━━━━━━━━━━━━━━\u001b[0m\u001b[37m\u001b[0m \u001b[1m0s\u001b[0m 396us/step - loss: 0.3326\n",
      "Epoch 93/100\n",
      "\u001b[1m140/140\u001b[0m \u001b[32m━━━━━━━━━━━━━━━━━━━━\u001b[0m\u001b[37m\u001b[0m \u001b[1m0s\u001b[0m 381us/step - loss: 0.3351\n",
      "Epoch 94/100\n",
      "\u001b[1m140/140\u001b[0m \u001b[32m━━━━━━━━━━━━━━━━━━━━\u001b[0m\u001b[37m\u001b[0m \u001b[1m0s\u001b[0m 453us/step - loss: 0.3298\n",
      "Epoch 95/100\n",
      "\u001b[1m140/140\u001b[0m \u001b[32m━━━━━━━━━━━━━━━━━━━━\u001b[0m\u001b[37m\u001b[0m \u001b[1m0s\u001b[0m 374us/step - loss: 0.3578\n",
      "Epoch 96/100\n",
      "\u001b[1m140/140\u001b[0m \u001b[32m━━━━━━━━━━━━━━━━━━━━\u001b[0m\u001b[37m\u001b[0m \u001b[1m0s\u001b[0m 360us/step - loss: 0.3352\n",
      "Epoch 97/100\n",
      "\u001b[1m140/140\u001b[0m \u001b[32m━━━━━━━━━━━━━━━━━━━━\u001b[0m\u001b[37m\u001b[0m \u001b[1m0s\u001b[0m 381us/step - loss: 0.3313\n",
      "Epoch 98/100\n",
      "\u001b[1m140/140\u001b[0m \u001b[32m━━━━━━━━━━━━━━━━━━━━\u001b[0m\u001b[37m\u001b[0m \u001b[1m0s\u001b[0m 403us/step - loss: 0.3335\n",
      "Epoch 99/100\n",
      "\u001b[1m140/140\u001b[0m \u001b[32m━━━━━━━━━━━━━━━━━━━━\u001b[0m\u001b[37m\u001b[0m \u001b[1m0s\u001b[0m 388us/step - loss: 0.3270\n",
      "Epoch 100/100\n",
      "\u001b[1m140/140\u001b[0m \u001b[32m━━━━━━━━━━━━━━━━━━━━\u001b[0m\u001b[37m\u001b[0m \u001b[1m0s\u001b[0m 489us/step - loss: 0.3263\n"
     ]
    },
    {
     "data": {
      "text/plain": [
       "<keras.src.callbacks.history.History at 0x26ed6f98b90>"
      ]
     },
     "execution_count": 163,
     "metadata": {},
     "output_type": "execute_result"
    }
   ],
   "source": [
    "my_model.fit(\n",
    "    X_train,Y_train,\n",
    "    epochs = 100)"
   ]
  },
  {
   "cell_type": "code",
   "execution_count": 166,
   "id": "c4ed48da-055f-40df-8aef-e10841b946b5",
   "metadata": {},
   "outputs": [
    {
     "name": "stdout",
     "output_type": "stream",
     "text": [
      "\u001b[1m140/140\u001b[0m \u001b[32m━━━━━━━━━━━━━━━━━━━━\u001b[0m\u001b[37m\u001b[0m \u001b[1m0s\u001b[0m 288us/step\n"
     ]
    },
    {
     "data": {
      "text/plain": [
       "array([[2.4574232e-10],\n",
       "       [9.4486350e-01],\n",
       "       [7.7188182e-01],\n",
       "       ...,\n",
       "       [9.4486350e-01],\n",
       "       [8.6180228e-01],\n",
       "       [1.6891377e-01]], dtype=float32)"
      ]
     },
     "execution_count": 166,
     "metadata": {},
     "output_type": "execute_result"
    }
   ],
   "source": [
    "y_pred = my_model.predict(X_train)\n",
    "y_pred"
   ]
  },
  {
   "cell_type": "code",
   "execution_count": 167,
   "id": "4073c8f9-8516-48b7-a529-bb560d72df8c",
   "metadata": {},
   "outputs": [
    {
     "data": {
      "text/plain": [
       "array([[0],\n",
       "       [1],\n",
       "       [1],\n",
       "       ...,\n",
       "       [1],\n",
       "       [1],\n",
       "       [0]])"
      ]
     },
     "execution_count": 167,
     "metadata": {},
     "output_type": "execute_result"
    }
   ],
   "source": [
    "y_hat = (y_pred >= 0.5).astype(int)\n",
    "y_hat"
   ]
  },
  {
   "cell_type": "code",
   "execution_count": 168,
   "id": "48e84a06-3ac2-4129-9bd7-cf58a476c9b1",
   "metadata": {},
   "outputs": [
    {
     "data": {
      "text/plain": [
       "53.94671300032734"
      ]
     },
     "execution_count": 168,
     "metadata": {},
     "output_type": "execute_result"
    }
   ],
   "source": [
    "accuracy = np.mean(y_hat==Y_train)\n",
    "accuracy*100"
   ]
  },
  {
   "cell_type": "code",
   "execution_count": 169,
   "id": "f459d822-9277-4bdb-9f52-967af16f69bb",
   "metadata": {},
   "outputs": [
    {
     "name": "stdout",
     "output_type": "stream",
     "text": [
      "\u001b[1m35/35\u001b[0m \u001b[32m━━━━━━━━━━━━━━━━━━━━\u001b[0m\u001b[37m\u001b[0m \u001b[1m0s\u001b[0m 323us/step\n"
     ]
    },
    {
     "data": {
      "text/plain": [
       "54.32780612244898"
      ]
     },
     "execution_count": 169,
     "metadata": {},
     "output_type": "execute_result"
    }
   ],
   "source": [
    "y_pred1=my_model.predict(X_test)\n",
    "y_hat1 = (y_pred1 >= 0.5).astype(int)\n",
    "acc = np.mean(y_hat1==Y_test)\n",
    "acc*100"
   ]
  },
  {
   "cell_type": "markdown",
   "id": "4f058f87-348f-4878-9e55-df466f1ec7aa",
   "metadata": {},
   "source": [
    "#### High bias problem!!!"
   ]
  },
  {
   "cell_type": "markdown",
   "id": "95659dba-0cf7-4fdf-9e62-6f87595eb107",
   "metadata": {},
   "source": [
    "##### Let's try incresing complexity of NN"
   ]
  },
  {
   "cell_type": "markdown",
   "id": "ce41c345-5b2d-4c4d-89a2-6a40fa45ad6e",
   "metadata": {},
   "source": [
    "## XG Boost: Tree Ensemble"
   ]
  },
  {
   "cell_type": "code",
   "execution_count": 170,
   "id": "d6a08c75-5860-40e1-945a-3b29e1df0e80",
   "metadata": {},
   "outputs": [],
   "source": [
    "from xgboost import XGBClassifier"
   ]
  },
  {
   "cell_type": "code",
   "execution_count": 171,
   "id": "69320616-56ad-4cb7-ad51-120680f09e58",
   "metadata": {},
   "outputs": [],
   "source": [
    "X_train, X_, Y_train, Y_ = train_test_split(X,Y,test_size=0.4,random_state=37)\n",
    "X_test, X_eval , Y_test, Y_eval = train_test_split(X_,Y_,test_size=0.5,random_state=37)"
   ]
  },
  {
   "cell_type": "code",
   "execution_count": 172,
   "id": "0d6e57e5-20ed-4276-a498-1981601d0042",
   "metadata": {},
   "outputs": [
    {
     "name": "stdout",
     "output_type": "stream",
     "text": [
      "[0]\tvalidation_0-logloss:0.57812\n",
      "[1]\tvalidation_0-logloss:0.51192\n",
      "[2]\tvalidation_0-logloss:0.45872\n",
      "[3]\tvalidation_0-logloss:0.41348\n",
      "[4]\tvalidation_0-logloss:0.37578\n",
      "[5]\tvalidation_0-logloss:0.34297\n",
      "[6]\tvalidation_0-logloss:0.31412\n",
      "[7]\tvalidation_0-logloss:0.28992\n",
      "[8]\tvalidation_0-logloss:0.26921\n",
      "[9]\tvalidation_0-logloss:0.25057\n",
      "[10]\tvalidation_0-logloss:0.23440\n",
      "[11]\tvalidation_0-logloss:0.21994\n",
      "[12]\tvalidation_0-logloss:0.20716\n",
      "[13]\tvalidation_0-logloss:0.19561\n",
      "[14]\tvalidation_0-logloss:0.18594\n",
      "[15]\tvalidation_0-logloss:0.17742\n",
      "[16]\tvalidation_0-logloss:0.16989\n",
      "[17]\tvalidation_0-logloss:0.16332\n",
      "[18]\tvalidation_0-logloss:0.15774\n",
      "[19]\tvalidation_0-logloss:0.15245\n",
      "[20]\tvalidation_0-logloss:0.14811\n",
      "[21]\tvalidation_0-logloss:0.14346\n",
      "[22]\tvalidation_0-logloss:0.13953\n",
      "[23]\tvalidation_0-logloss:0.13596\n",
      "[24]\tvalidation_0-logloss:0.13307\n",
      "[25]\tvalidation_0-logloss:0.13051\n",
      "[26]\tvalidation_0-logloss:0.12802\n",
      "[27]\tvalidation_0-logloss:0.12596\n",
      "[28]\tvalidation_0-logloss:0.12392\n",
      "[29]\tvalidation_0-logloss:0.12209\n",
      "[30]\tvalidation_0-logloss:0.12059\n",
      "[31]\tvalidation_0-logloss:0.11894\n",
      "[32]\tvalidation_0-logloss:0.11783\n",
      "[33]\tvalidation_0-logloss:0.11748\n",
      "[34]\tvalidation_0-logloss:0.11628\n",
      "[35]\tvalidation_0-logloss:0.11570\n",
      "[36]\tvalidation_0-logloss:0.11451\n",
      "[37]\tvalidation_0-logloss:0.11428\n",
      "[38]\tvalidation_0-logloss:0.11421\n",
      "[39]\tvalidation_0-logloss:0.11380\n",
      "[40]\tvalidation_0-logloss:0.11361\n",
      "[41]\tvalidation_0-logloss:0.11349\n",
      "[42]\tvalidation_0-logloss:0.11284\n",
      "[43]\tvalidation_0-logloss:0.11295\n",
      "[44]\tvalidation_0-logloss:0.11255\n",
      "[45]\tvalidation_0-logloss:0.11233\n",
      "[46]\tvalidation_0-logloss:0.11194\n",
      "[47]\tvalidation_0-logloss:0.11161\n",
      "[48]\tvalidation_0-logloss:0.11175\n",
      "[49]\tvalidation_0-logloss:0.11200\n",
      "[50]\tvalidation_0-logloss:0.11216\n",
      "[51]\tvalidation_0-logloss:0.11141\n",
      "[52]\tvalidation_0-logloss:0.11067\n",
      "[53]\tvalidation_0-logloss:0.11088\n",
      "[54]\tvalidation_0-logloss:0.11077\n",
      "[55]\tvalidation_0-logloss:0.11065\n",
      "[56]\tvalidation_0-logloss:0.11068\n",
      "[57]\tvalidation_0-logloss:0.11071\n",
      "[58]\tvalidation_0-logloss:0.11078\n",
      "[59]\tvalidation_0-logloss:0.11104\n",
      "[60]\tvalidation_0-logloss:0.11095\n",
      "[61]\tvalidation_0-logloss:0.11103\n",
      "[62]\tvalidation_0-logloss:0.11083\n",
      "[63]\tvalidation_0-logloss:0.11094\n",
      "[64]\tvalidation_0-logloss:0.11115\n"
     ]
    },
    {
     "data": {
      "text/html": [
       "<style>#sk-container-id-5 {color: black;background-color: white;}#sk-container-id-5 pre{padding: 0;}#sk-container-id-5 div.sk-toggleable {background-color: white;}#sk-container-id-5 label.sk-toggleable__label {cursor: pointer;display: block;width: 100%;margin-bottom: 0;padding: 0.3em;box-sizing: border-box;text-align: center;}#sk-container-id-5 label.sk-toggleable__label-arrow:before {content: \"▸\";float: left;margin-right: 0.25em;color: #696969;}#sk-container-id-5 label.sk-toggleable__label-arrow:hover:before {color: black;}#sk-container-id-5 div.sk-estimator:hover label.sk-toggleable__label-arrow:before {color: black;}#sk-container-id-5 div.sk-toggleable__content {max-height: 0;max-width: 0;overflow: hidden;text-align: left;background-color: #f0f8ff;}#sk-container-id-5 div.sk-toggleable__content pre {margin: 0.2em;color: black;border-radius: 0.25em;background-color: #f0f8ff;}#sk-container-id-5 input.sk-toggleable__control:checked~div.sk-toggleable__content {max-height: 200px;max-width: 100%;overflow: auto;}#sk-container-id-5 input.sk-toggleable__control:checked~label.sk-toggleable__label-arrow:before {content: \"▾\";}#sk-container-id-5 div.sk-estimator input.sk-toggleable__control:checked~label.sk-toggleable__label {background-color: #d4ebff;}#sk-container-id-5 div.sk-label input.sk-toggleable__control:checked~label.sk-toggleable__label {background-color: #d4ebff;}#sk-container-id-5 input.sk-hidden--visually {border: 0;clip: rect(1px 1px 1px 1px);clip: rect(1px, 1px, 1px, 1px);height: 1px;margin: -1px;overflow: hidden;padding: 0;position: absolute;width: 1px;}#sk-container-id-5 div.sk-estimator {font-family: monospace;background-color: #f0f8ff;border: 1px dotted black;border-radius: 0.25em;box-sizing: border-box;margin-bottom: 0.5em;}#sk-container-id-5 div.sk-estimator:hover {background-color: #d4ebff;}#sk-container-id-5 div.sk-parallel-item::after {content: \"\";width: 100%;border-bottom: 1px solid gray;flex-grow: 1;}#sk-container-id-5 div.sk-label:hover label.sk-toggleable__label {background-color: #d4ebff;}#sk-container-id-5 div.sk-serial::before {content: \"\";position: absolute;border-left: 1px solid gray;box-sizing: border-box;top: 0;bottom: 0;left: 50%;z-index: 0;}#sk-container-id-5 div.sk-serial {display: flex;flex-direction: column;align-items: center;background-color: white;padding-right: 0.2em;padding-left: 0.2em;position: relative;}#sk-container-id-5 div.sk-item {position: relative;z-index: 1;}#sk-container-id-5 div.sk-parallel {display: flex;align-items: stretch;justify-content: center;background-color: white;position: relative;}#sk-container-id-5 div.sk-item::before, #sk-container-id-5 div.sk-parallel-item::before {content: \"\";position: absolute;border-left: 1px solid gray;box-sizing: border-box;top: 0;bottom: 0;left: 50%;z-index: -1;}#sk-container-id-5 div.sk-parallel-item {display: flex;flex-direction: column;z-index: 1;position: relative;background-color: white;}#sk-container-id-5 div.sk-parallel-item:first-child::after {align-self: flex-end;width: 50%;}#sk-container-id-5 div.sk-parallel-item:last-child::after {align-self: flex-start;width: 50%;}#sk-container-id-5 div.sk-parallel-item:only-child::after {width: 0;}#sk-container-id-5 div.sk-dashed-wrapped {border: 1px dashed gray;margin: 0 0.4em 0.5em 0.4em;box-sizing: border-box;padding-bottom: 0.4em;background-color: white;}#sk-container-id-5 div.sk-label label {font-family: monospace;font-weight: bold;display: inline-block;line-height: 1.2em;}#sk-container-id-5 div.sk-label-container {text-align: center;}#sk-container-id-5 div.sk-container {/* jupyter's `normalize.less` sets `[hidden] { display: none; }` but bootstrap.min.css set `[hidden] { display: none !important; }` so we also need the `!important` here to be able to override the default hidden behavior on the sphinx rendered scikit-learn.org. See: https://github.com/scikit-learn/scikit-learn/issues/21755 */display: inline-block !important;position: relative;}#sk-container-id-5 div.sk-text-repr-fallback {display: none;}</style><div id=\"sk-container-id-5\" class=\"sk-top-container\"><div class=\"sk-text-repr-fallback\"><pre>XGBClassifier(base_score=None, booster=None, callbacks=None,\n",
       "              colsample_bylevel=None, colsample_bynode=None,\n",
       "              colsample_bytree=None, device=None, early_stopping_rounds=10,\n",
       "              enable_categorical=False, eval_metric=None, feature_types=None,\n",
       "              gamma=None, grow_policy=None, importance_type=None,\n",
       "              interaction_constraints=None, learning_rate=0.1, max_bin=None,\n",
       "              max_cat_threshold=None, max_cat_to_onehot=None,\n",
       "              max_delta_step=None, max_depth=None, max_leaves=None,\n",
       "              min_child_weight=None, missing=nan, monotone_constraints=None,\n",
       "              multi_strategy=None, n_estimators=500, n_jobs=None,\n",
       "              num_parallel_tree=None, random_state=7, ...)</pre><b>In a Jupyter environment, please rerun this cell to show the HTML representation or trust the notebook. <br />On GitHub, the HTML representation is unable to render, please try loading this page with nbviewer.org.</b></div><div class=\"sk-container\" hidden><div class=\"sk-item\"><div class=\"sk-estimator sk-toggleable\"><input class=\"sk-toggleable__control sk-hidden--visually\" id=\"sk-estimator-id-5\" type=\"checkbox\" checked><label for=\"sk-estimator-id-5\" class=\"sk-toggleable__label sk-toggleable__label-arrow\">XGBClassifier</label><div class=\"sk-toggleable__content\"><pre>XGBClassifier(base_score=None, booster=None, callbacks=None,\n",
       "              colsample_bylevel=None, colsample_bynode=None,\n",
       "              colsample_bytree=None, device=None, early_stopping_rounds=10,\n",
       "              enable_categorical=False, eval_metric=None, feature_types=None,\n",
       "              gamma=None, grow_policy=None, importance_type=None,\n",
       "              interaction_constraints=None, learning_rate=0.1, max_bin=None,\n",
       "              max_cat_threshold=None, max_cat_to_onehot=None,\n",
       "              max_delta_step=None, max_depth=None, max_leaves=None,\n",
       "              min_child_weight=None, missing=nan, monotone_constraints=None,\n",
       "              multi_strategy=None, n_estimators=500, n_jobs=None,\n",
       "              num_parallel_tree=None, random_state=7, ...)</pre></div></div></div></div></div>"
      ],
      "text/plain": [
       "XGBClassifier(base_score=None, booster=None, callbacks=None,\n",
       "              colsample_bylevel=None, colsample_bynode=None,\n",
       "              colsample_bytree=None, device=None, early_stopping_rounds=10,\n",
       "              enable_categorical=False, eval_metric=None, feature_types=None,\n",
       "              gamma=None, grow_policy=None, importance_type=None,\n",
       "              interaction_constraints=None, learning_rate=0.1, max_bin=None,\n",
       "              max_cat_threshold=None, max_cat_to_onehot=None,\n",
       "              max_delta_step=None, max_depth=None, max_leaves=None,\n",
       "              min_child_weight=None, missing=nan, monotone_constraints=None,\n",
       "              multi_strategy=None, n_estimators=500, n_jobs=None,\n",
       "              num_parallel_tree=None, random_state=7, ...)"
      ]
     },
     "execution_count": 172,
     "metadata": {},
     "output_type": "execute_result"
    }
   ],
   "source": [
    "xgb_model = XGBClassifier(n_estimators = 500, learning_rate = 0.1,verbosity = 1, random_state = 7, early_stopping_rounds = 10)\n",
    "xgb_model.fit(X_train,Y_train, eval_set = [(X_eval,Y_eval)])"
   ]
  },
  {
   "cell_type": "code",
   "execution_count": 173,
   "id": "0c950222-e870-4ff2-9967-b310fc839f21",
   "metadata": {},
   "outputs": [
    {
     "data": {
      "text/plain": [
       "55"
      ]
     },
     "execution_count": 173,
     "metadata": {},
     "output_type": "execute_result"
    }
   ],
   "source": [
    "xgb_model.best_iteration"
   ]
  },
  {
   "cell_type": "code",
   "execution_count": 174,
   "id": "cbe5f2e3-a71d-4322-813e-3e5086cbec71",
   "metadata": {},
   "outputs": [],
   "source": [
    "y1_pred_tree = xgb_model.predict(X_train)\n",
    "y2_pred_tree = xgb_model.predict(X_eval)\n",
    "y3_pred_tree = xgb_model.predict(X_test)"
   ]
  },
  {
   "cell_type": "code",
   "execution_count": 175,
   "id": "a00604c6-0a04-4e52-a2d8-7e72fd5258bb",
   "metadata": {},
   "outputs": [],
   "source": [
    "acc1 = np.mean(Y_train==y1_pred_tree)\n",
    "acc2 = np.mean(Y_eval==y2_pred_tree)\n",
    "acc3 = np.mean(Y_test==y3_pred_tree)"
   ]
  },
  {
   "cell_type": "code",
   "execution_count": 176,
   "id": "e324ef79-0ec1-4474-941f-74fa2e7d143a",
   "metadata": {},
   "outputs": [
    {
     "name": "stdout",
     "output_type": "stream",
     "text": [
      "99.49389699315272   96.51785714285714   96.07142857142857\n"
     ]
    }
   ],
   "source": [
    "print(acc1*100,\" \",acc2*100,\" \",acc3*100)"
   ]
  },
  {
   "cell_type": "markdown",
   "id": "09528eed-ef29-4d12-bb5f-8c556e95098f",
   "metadata": {},
   "source": [
    "#### XGBoost performs great in our dataset... finding aggregate score of the model using K-fold method"
   ]
  },
  {
   "cell_type": "code",
   "execution_count": 177,
   "id": "c35808ac-49de-4276-9bcb-f35f02fb1279",
   "metadata": {},
   "outputs": [],
   "source": [
    "from sklearn.model_selection import KFold"
   ]
  },
  {
   "cell_type": "code",
   "execution_count": 178,
   "id": "049cf269-d957-4cb7-9c87-e3137f004e8b",
   "metadata": {},
   "outputs": [],
   "source": [
    "def get_score(X,Y):\n",
    "    kf = KFold(n_splits=4)\n",
    "    '''\n",
    "    uses K-fold method to find average score of the model over 3 folds. \n",
    "    '''\n",
    "    score = 0\n",
    "    train_score = 0\n",
    "    for train_index,test_index in kf.split(X):\n",
    "        #75% train, 12.5% eval, 12.5% test\n",
    "        X_train, X_, Y_train, Y_ = X[train_index], X[test_index], Y[train_index], Y[test_index]\n",
    "        X_test, X_eval, Y_test, Y_eval = train_test_split(X_,Y_,test_size=0.5,random_state=37)\n",
    "        xgb_model = XGBClassifier(n_estimators = 500, learning_rate = 0.1,verbosity = 1, random_state = 37, early_stopping_rounds = 10)\n",
    "        xgb_model.fit(X_train,Y_train, eval_set = [(X_eval,Y_eval)])\n",
    "        prediction = xgb_model.predict(X_test)\n",
    "        prediction2 = xgb_model.predict(X_train)\n",
    "        accuracy = np.mean(prediction==Y_test) * 100\n",
    "        accuracy2 = np.mean(prediction2==Y_train) * 100\n",
    "        score += accuracy\n",
    "        train_score+= accuracy2\n",
    "    score = score/4\n",
    "    train_score = train_score/4\n",
    "    return score, train_score"
   ]
  },
  {
   "cell_type": "code",
   "execution_count": 179,
   "id": "c331e46a-3f3b-473c-8671-295108bed99e",
   "metadata": {},
   "outputs": [
    {
     "name": "stdout",
     "output_type": "stream",
     "text": [
      "[0]\tvalidation_0-logloss:0.55967\n",
      "[1]\tvalidation_0-logloss:0.49817\n",
      "[2]\tvalidation_0-logloss:0.44734\n",
      "[3]\tvalidation_0-logloss:0.40391\n",
      "[4]\tvalidation_0-logloss:0.36761\n",
      "[5]\tvalidation_0-logloss:0.33604\n",
      "[6]\tvalidation_0-logloss:0.30869\n",
      "[7]\tvalidation_0-logloss:0.28487\n",
      "[8]\tvalidation_0-logloss:0.26472\n",
      "[9]\tvalidation_0-logloss:0.24757\n",
      "[10]\tvalidation_0-logloss:0.23196\n",
      "[11]\tvalidation_0-logloss:0.21836\n",
      "[12]\tvalidation_0-logloss:0.20570\n",
      "[13]\tvalidation_0-logloss:0.19445\n",
      "[14]\tvalidation_0-logloss:0.18518\n",
      "[15]\tvalidation_0-logloss:0.17645\n",
      "[16]\tvalidation_0-logloss:0.16858\n",
      "[17]\tvalidation_0-logloss:0.16168\n",
      "[18]\tvalidation_0-logloss:0.15459\n",
      "[19]\tvalidation_0-logloss:0.14939\n",
      "[20]\tvalidation_0-logloss:0.14478\n",
      "[21]\tvalidation_0-logloss:0.14128\n",
      "[22]\tvalidation_0-logloss:0.13711\n",
      "[23]\tvalidation_0-logloss:0.13420\n",
      "[24]\tvalidation_0-logloss:0.13084\n",
      "[25]\tvalidation_0-logloss:0.12787\n",
      "[26]\tvalidation_0-logloss:0.12463\n",
      "[27]\tvalidation_0-logloss:0.12184\n",
      "[28]\tvalidation_0-logloss:0.11991\n",
      "[29]\tvalidation_0-logloss:0.11863\n",
      "[30]\tvalidation_0-logloss:0.11678\n",
      "[31]\tvalidation_0-logloss:0.11531\n",
      "[32]\tvalidation_0-logloss:0.11344\n",
      "[33]\tvalidation_0-logloss:0.11228\n",
      "[34]\tvalidation_0-logloss:0.11143\n",
      "[35]\tvalidation_0-logloss:0.11098\n",
      "[36]\tvalidation_0-logloss:0.11012\n",
      "[37]\tvalidation_0-logloss:0.10997\n",
      "[38]\tvalidation_0-logloss:0.10900\n",
      "[39]\tvalidation_0-logloss:0.10803\n",
      "[40]\tvalidation_0-logloss:0.10782\n",
      "[41]\tvalidation_0-logloss:0.10761\n",
      "[42]\tvalidation_0-logloss:0.10768\n",
      "[43]\tvalidation_0-logloss:0.10726\n",
      "[44]\tvalidation_0-logloss:0.10769\n",
      "[45]\tvalidation_0-logloss:0.10730\n",
      "[46]\tvalidation_0-logloss:0.10699\n",
      "[47]\tvalidation_0-logloss:0.10691\n",
      "[48]\tvalidation_0-logloss:0.10686\n",
      "[49]\tvalidation_0-logloss:0.10735\n",
      "[50]\tvalidation_0-logloss:0.10750\n",
      "[51]\tvalidation_0-logloss:0.10692\n",
      "[52]\tvalidation_0-logloss:0.10734\n",
      "[53]\tvalidation_0-logloss:0.10697\n",
      "[54]\tvalidation_0-logloss:0.10656\n",
      "[55]\tvalidation_0-logloss:0.10616\n",
      "[56]\tvalidation_0-logloss:0.10551\n",
      "[57]\tvalidation_0-logloss:0.10537\n",
      "[58]\tvalidation_0-logloss:0.10533\n",
      "[59]\tvalidation_0-logloss:0.10571\n",
      "[60]\tvalidation_0-logloss:0.10609\n",
      "[61]\tvalidation_0-logloss:0.10608\n",
      "[62]\tvalidation_0-logloss:0.10614\n",
      "[63]\tvalidation_0-logloss:0.10637\n",
      "[64]\tvalidation_0-logloss:0.10632\n",
      "[65]\tvalidation_0-logloss:0.10618\n",
      "[66]\tvalidation_0-logloss:0.10585\n",
      "[67]\tvalidation_0-logloss:0.10534\n",
      "[0]\tvalidation_0-logloss:0.53995\n",
      "[1]\tvalidation_0-logloss:0.47955\n",
      "[2]\tvalidation_0-logloss:0.42902\n",
      "[3]\tvalidation_0-logloss:0.38677\n",
      "[4]\tvalidation_0-logloss:0.35033\n",
      "[5]\tvalidation_0-logloss:0.31907\n",
      "[6]\tvalidation_0-logloss:0.29145\n",
      "[7]\tvalidation_0-logloss:0.26821\n",
      "[8]\tvalidation_0-logloss:0.24789\n",
      "[9]\tvalidation_0-logloss:0.22964\n",
      "[10]\tvalidation_0-logloss:0.21319\n",
      "[11]\tvalidation_0-logloss:0.19917\n",
      "[12]\tvalidation_0-logloss:0.18628\n",
      "[13]\tvalidation_0-logloss:0.17549\n",
      "[14]\tvalidation_0-logloss:0.16524\n",
      "[15]\tvalidation_0-logloss:0.15614\n",
      "[16]\tvalidation_0-logloss:0.14793\n",
      "[17]\tvalidation_0-logloss:0.14055\n",
      "[18]\tvalidation_0-logloss:0.13374\n",
      "[19]\tvalidation_0-logloss:0.12753\n",
      "[20]\tvalidation_0-logloss:0.12213\n",
      "[21]\tvalidation_0-logloss:0.11799\n",
      "[22]\tvalidation_0-logloss:0.11410\n",
      "[23]\tvalidation_0-logloss:0.11056\n",
      "[24]\tvalidation_0-logloss:0.10742\n",
      "[25]\tvalidation_0-logloss:0.10448\n",
      "[26]\tvalidation_0-logloss:0.10169\n",
      "[27]\tvalidation_0-logloss:0.09962\n",
      "[28]\tvalidation_0-logloss:0.09763\n",
      "[29]\tvalidation_0-logloss:0.09542\n",
      "[30]\tvalidation_0-logloss:0.09348\n",
      "[31]\tvalidation_0-logloss:0.09196\n",
      "[32]\tvalidation_0-logloss:0.09087\n",
      "[33]\tvalidation_0-logloss:0.08954\n",
      "[34]\tvalidation_0-logloss:0.08872\n",
      "[35]\tvalidation_0-logloss:0.08766\n",
      "[36]\tvalidation_0-logloss:0.08711\n",
      "[37]\tvalidation_0-logloss:0.08608\n",
      "[38]\tvalidation_0-logloss:0.08537\n",
      "[39]\tvalidation_0-logloss:0.08477\n",
      "[40]\tvalidation_0-logloss:0.08421\n",
      "[41]\tvalidation_0-logloss:0.08360\n",
      "[42]\tvalidation_0-logloss:0.08333\n",
      "[43]\tvalidation_0-logloss:0.08291\n",
      "[44]\tvalidation_0-logloss:0.08252\n",
      "[45]\tvalidation_0-logloss:0.08229\n",
      "[46]\tvalidation_0-logloss:0.08181\n",
      "[47]\tvalidation_0-logloss:0.08168\n",
      "[48]\tvalidation_0-logloss:0.08129\n",
      "[49]\tvalidation_0-logloss:0.08092\n",
      "[50]\tvalidation_0-logloss:0.08081\n",
      "[51]\tvalidation_0-logloss:0.08049\n",
      "[52]\tvalidation_0-logloss:0.08023\n",
      "[53]\tvalidation_0-logloss:0.08010\n",
      "[54]\tvalidation_0-logloss:0.08056\n",
      "[55]\tvalidation_0-logloss:0.08102\n",
      "[56]\tvalidation_0-logloss:0.08067\n",
      "[57]\tvalidation_0-logloss:0.08046\n",
      "[58]\tvalidation_0-logloss:0.08074\n",
      "[59]\tvalidation_0-logloss:0.08049\n",
      "[60]\tvalidation_0-logloss:0.08036\n",
      "[61]\tvalidation_0-logloss:0.08066\n",
      "[62]\tvalidation_0-logloss:0.08050\n",
      "[0]\tvalidation_0-logloss:0.57158\n",
      "[1]\tvalidation_0-logloss:0.50831\n",
      "[2]\tvalidation_0-logloss:0.45658\n",
      "[3]\tvalidation_0-logloss:0.41274\n",
      "[4]\tvalidation_0-logloss:0.37592\n",
      "[5]\tvalidation_0-logloss:0.34396\n",
      "[6]\tvalidation_0-logloss:0.31653\n",
      "[7]\tvalidation_0-logloss:0.29259\n",
      "[8]\tvalidation_0-logloss:0.27134\n",
      "[9]\tvalidation_0-logloss:0.25391\n",
      "[10]\tvalidation_0-logloss:0.23766\n",
      "[11]\tvalidation_0-logloss:0.22388\n",
      "[12]\tvalidation_0-logloss:0.21187\n",
      "[13]\tvalidation_0-logloss:0.20118\n",
      "[14]\tvalidation_0-logloss:0.19244\n",
      "[15]\tvalidation_0-logloss:0.18379\n",
      "[16]\tvalidation_0-logloss:0.17643\n",
      "[17]\tvalidation_0-logloss:0.17013\n",
      "[18]\tvalidation_0-logloss:0.16433\n",
      "[19]\tvalidation_0-logloss:0.15903\n",
      "[20]\tvalidation_0-logloss:0.15472\n",
      "[21]\tvalidation_0-logloss:0.15057\n",
      "[22]\tvalidation_0-logloss:0.14732\n",
      "[23]\tvalidation_0-logloss:0.14391\n",
      "[24]\tvalidation_0-logloss:0.14124\n",
      "[25]\tvalidation_0-logloss:0.13929\n",
      "[26]\tvalidation_0-logloss:0.13723\n",
      "[27]\tvalidation_0-logloss:0.13600\n",
      "[28]\tvalidation_0-logloss:0.13388\n",
      "[29]\tvalidation_0-logloss:0.13284\n",
      "[30]\tvalidation_0-logloss:0.13171\n",
      "[31]\tvalidation_0-logloss:0.13073\n",
      "[32]\tvalidation_0-logloss:0.12985\n",
      "[33]\tvalidation_0-logloss:0.13007\n",
      "[34]\tvalidation_0-logloss:0.12936\n",
      "[35]\tvalidation_0-logloss:0.12883\n",
      "[36]\tvalidation_0-logloss:0.12840\n",
      "[37]\tvalidation_0-logloss:0.12790\n",
      "[38]\tvalidation_0-logloss:0.12772\n",
      "[39]\tvalidation_0-logloss:0.12776\n",
      "[40]\tvalidation_0-logloss:0.12732\n",
      "[41]\tvalidation_0-logloss:0.12760\n",
      "[42]\tvalidation_0-logloss:0.12771\n",
      "[43]\tvalidation_0-logloss:0.12781\n",
      "[44]\tvalidation_0-logloss:0.12876\n",
      "[45]\tvalidation_0-logloss:0.12837\n",
      "[46]\tvalidation_0-logloss:0.12889\n",
      "[47]\tvalidation_0-logloss:0.12861\n",
      "[48]\tvalidation_0-logloss:0.12990\n",
      "[49]\tvalidation_0-logloss:0.12976\n",
      "[50]\tvalidation_0-logloss:0.13007\n",
      "[0]\tvalidation_0-logloss:0.77267\n",
      "[1]\tvalidation_0-logloss:0.67368\n",
      "[2]\tvalidation_0-logloss:0.59661\n",
      "[3]\tvalidation_0-logloss:0.53532\n",
      "[4]\tvalidation_0-logloss:0.48436\n",
      "[5]\tvalidation_0-logloss:0.44250\n",
      "[6]\tvalidation_0-logloss:0.40756\n",
      "[7]\tvalidation_0-logloss:0.37703\n",
      "[8]\tvalidation_0-logloss:0.35131\n",
      "[9]\tvalidation_0-logloss:0.32879\n",
      "[10]\tvalidation_0-logloss:0.31012\n",
      "[11]\tvalidation_0-logloss:0.29392\n",
      "[12]\tvalidation_0-logloss:0.27951\n",
      "[13]\tvalidation_0-logloss:0.26714\n",
      "[14]\tvalidation_0-logloss:0.25644\n",
      "[15]\tvalidation_0-logloss:0.24729\n",
      "[16]\tvalidation_0-logloss:0.23862\n",
      "[17]\tvalidation_0-logloss:0.23157\n",
      "[18]\tvalidation_0-logloss:0.22531\n",
      "[19]\tvalidation_0-logloss:0.22015\n",
      "[20]\tvalidation_0-logloss:0.21485\n",
      "[21]\tvalidation_0-logloss:0.21095\n",
      "[22]\tvalidation_0-logloss:0.20634\n",
      "[23]\tvalidation_0-logloss:0.20262\n",
      "[24]\tvalidation_0-logloss:0.19937\n",
      "[25]\tvalidation_0-logloss:0.19663\n",
      "[26]\tvalidation_0-logloss:0.19377\n",
      "[27]\tvalidation_0-logloss:0.19206\n",
      "[28]\tvalidation_0-logloss:0.18962\n",
      "[29]\tvalidation_0-logloss:0.18745\n",
      "[30]\tvalidation_0-logloss:0.18561\n",
      "[31]\tvalidation_0-logloss:0.18431\n",
      "[32]\tvalidation_0-logloss:0.18410\n",
      "[33]\tvalidation_0-logloss:0.18269\n",
      "[34]\tvalidation_0-logloss:0.18136\n",
      "[35]\tvalidation_0-logloss:0.18063\n",
      "[36]\tvalidation_0-logloss:0.17981\n",
      "[37]\tvalidation_0-logloss:0.17916\n",
      "[38]\tvalidation_0-logloss:0.17800\n",
      "[39]\tvalidation_0-logloss:0.17759\n",
      "[40]\tvalidation_0-logloss:0.17740\n",
      "[41]\tvalidation_0-logloss:0.17771\n",
      "[42]\tvalidation_0-logloss:0.17822\n",
      "[43]\tvalidation_0-logloss:0.17815\n",
      "[44]\tvalidation_0-logloss:0.17789\n",
      "[45]\tvalidation_0-logloss:0.17772\n",
      "[46]\tvalidation_0-logloss:0.17790\n",
      "[47]\tvalidation_0-logloss:0.17863\n",
      "[48]\tvalidation_0-logloss:0.17846\n",
      "[49]\tvalidation_0-logloss:0.17930\n",
      "[50]\tvalidation_0-logloss:0.17923\n"
     ]
    }
   ],
   "source": [
    "score, train_score = get_score(X,Y)"
   ]
  },
  {
   "cell_type": "code",
   "execution_count": 180,
   "id": "4e6f5fa6-72b1-4964-b5b9-9e0339834adb",
   "metadata": {},
   "outputs": [
    {
     "name": "stdout",
     "output_type": "stream",
     "text": [
      "Average Score of model in 4 fold test in train set:  99.2974928837932\n"
     ]
    }
   ],
   "source": [
    "print(\"Average Score of model in 4 fold test in train set: \",train_score)"
   ]
  },
  {
   "cell_type": "code",
   "execution_count": 181,
   "id": "eed8ca3a-cc74-4b63-aa0c-510b06e1a2c1",
   "metadata": {},
   "outputs": [
    {
     "name": "stdout",
     "output_type": "stream",
     "text": [
      "Average Score of model in 4 fold test in test set:  96.60606989576947\n"
     ]
    }
   ],
   "source": [
    "print(\"Average Score of model in 4 fold test in test set: \",score)"
   ]
  },
  {
   "cell_type": "markdown",
   "id": "66fc305b-0a3b-40d7-9576-ac67a0117665",
   "metadata": {},
   "source": [
    "### Yayy!! 96% accuracy on test_set and 99% in training set"
   ]
  },
  {
   "cell_type": "code",
   "execution_count": null,
   "id": "8d4d3cbb-45b4-4563-8d0d-d6eba399f686",
   "metadata": {},
   "outputs": [],
   "source": []
  }
 ],
 "metadata": {
  "kernelspec": {
   "display_name": "Python 3 (ipykernel)",
   "language": "python",
   "name": "python3"
  },
  "language_info": {
   "codemirror_mode": {
    "name": "ipython",
    "version": 3
   },
   "file_extension": ".py",
   "mimetype": "text/x-python",
   "name": "python",
   "nbconvert_exporter": "python",
   "pygments_lexer": "ipython3",
   "version": "3.11.7"
  }
 },
 "nbformat": 4,
 "nbformat_minor": 5
}
